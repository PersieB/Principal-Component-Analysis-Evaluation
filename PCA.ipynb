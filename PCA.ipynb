{
  "cells": [
    {
      "attachments": {},
      "cell_type": "markdown",
      "metadata": {
        "id": "7aU0jseVQX97"
      },
      "source": [
        "PRINCIPAL COMPONENT ANALYSIS"
      ]
    },
    {
      "cell_type": "code",
      "execution_count": null,
      "metadata": {
        "id": "x51MPBm3TBPC"
      },
      "outputs": [],
      "source": [
        "#IMPORT LIBRARIES\n",
        "from sklearn import datasets\n",
        "from sklearn.preprocessing import StandardScaler\n",
        "from sklearn.decomposition import PCA\n",
        "from sklearn.model_selection import train_test_split\n",
        "from sklearn.naive_bayes import GaussianNB,BernoulliNB, MultinomialNB\n",
        "from sklearn.linear_model import LogisticRegression\n",
        "\n",
        "import pandas as pd\n",
        "\n",
        "#LOAD BREAST CANCER DATASET\n",
        "breast = datasets.load_breast_cancer()\n"
      ]
    },
    {
      "cell_type": "code",
      "execution_count": null,
      "metadata": {
        "colab": {
          "base_uri": "https://localhost:8080/"
        },
        "id": "x7nPEgi7TBPE",
        "outputId": "8a1a28e1-d7ed-4b5d-8133-40578e6e8e16"
      },
      "outputs": [
        {
          "data": {
            "text/plain": [
              "['DESCR',\n",
              " 'data',\n",
              " 'data_module',\n",
              " 'feature_names',\n",
              " 'filename',\n",
              " 'frame',\n",
              " 'target',\n",
              " 'target_names']"
            ]
          },
          "execution_count": 4,
          "metadata": {},
          "output_type": "execute_result"
        }
      ],
      "source": [
        "#CHECK DATA PROPERTIES AND FUNCTIONS\n",
        "dir(breast)"
      ]
    },
    {
      "cell_type": "code",
      "execution_count": null,
      "metadata": {
        "colab": {
          "base_uri": "https://localhost:8080/"
        },
        "id": "88ARLAIfTBPG",
        "outputId": "e99fbd35-8821-4a66-d97b-78e67692945f"
      },
      "outputs": [
        {
          "data": {
            "text/plain": [
              "array([[1.799e+01, 1.038e+01, 1.228e+02, 1.001e+03, 1.184e-01, 2.776e-01,\n",
              "        3.001e-01, 1.471e-01, 2.419e-01, 7.871e-02, 1.095e+00, 9.053e-01,\n",
              "        8.589e+00, 1.534e+02, 6.399e-03, 4.904e-02, 5.373e-02, 1.587e-02,\n",
              "        3.003e-02, 6.193e-03, 2.538e+01, 1.733e+01, 1.846e+02, 2.019e+03,\n",
              "        1.622e-01, 6.656e-01, 7.119e-01, 2.654e-01, 4.601e-01, 1.189e-01],\n",
              "       [2.057e+01, 1.777e+01, 1.329e+02, 1.326e+03, 8.474e-02, 7.864e-02,\n",
              "        8.690e-02, 7.017e-02, 1.812e-01, 5.667e-02, 5.435e-01, 7.339e-01,\n",
              "        3.398e+00, 7.408e+01, 5.225e-03, 1.308e-02, 1.860e-02, 1.340e-02,\n",
              "        1.389e-02, 3.532e-03, 2.499e+01, 2.341e+01, 1.588e+02, 1.956e+03,\n",
              "        1.238e-01, 1.866e-01, 2.416e-01, 1.860e-01, 2.750e-01, 8.902e-02]])"
            ]
          },
          "execution_count": 5,
          "metadata": {},
          "output_type": "execute_result"
        }
      ],
      "source": [
        "#VIEW FEW SAMPLE DATA\n",
        "breast.data[0:2]"
      ]
    },
    {
      "cell_type": "code",
      "execution_count": null,
      "metadata": {
        "colab": {
          "base_uri": "https://localhost:8080/"
        },
        "id": "PQaikl5gTBPH",
        "outputId": "6f20c1a5-ba2b-41fe-a69a-dc69a4a1818c"
      },
      "outputs": [
        {
          "data": {
            "text/plain": [
              "array(['mean radius', 'mean texture', 'mean perimeter', 'mean area',\n",
              "       'mean smoothness', 'mean compactness', 'mean concavity',\n",
              "       'mean concave points', 'mean symmetry', 'mean fractal dimension',\n",
              "       'radius error', 'texture error', 'perimeter error', 'area error',\n",
              "       'smoothness error', 'compactness error', 'concavity error',\n",
              "       'concave points error', 'symmetry error',\n",
              "       'fractal dimension error', 'worst radius', 'worst texture',\n",
              "       'worst perimeter', 'worst area', 'worst smoothness',\n",
              "       'worst compactness', 'worst concavity', 'worst concave points',\n",
              "       'worst symmetry', 'worst fractal dimension'], dtype='<U23')"
            ]
          },
          "execution_count": 6,
          "metadata": {},
          "output_type": "execute_result"
        }
      ],
      "source": [
        "#VIEW FEATURE NAMES\n",
        "breast.feature_names"
      ]
    },
    {
      "cell_type": "code",
      "execution_count": null,
      "metadata": {
        "colab": {
          "base_uri": "https://localhost:8080/"
        },
        "id": "KFQ_qHoVTBPH",
        "outputId": "221b6908-0ad2-4017-941a-b1613c137cae"
      },
      "outputs": [
        {
          "data": {
            "text/plain": [
              "array(['malignant', 'benign'], dtype='<U9')"
            ]
          },
          "execution_count": 7,
          "metadata": {},
          "output_type": "execute_result"
        }
      ],
      "source": [
        "#VIEW TARGET NAMES\n",
        "breast.target_names"
      ]
    },
    {
      "cell_type": "code",
      "execution_count": null,
      "metadata": {
        "colab": {
          "base_uri": "https://localhost:8080/"
        },
        "id": "kdaqlWSsTBPI",
        "outputId": "8be8102b-a077-45c0-ac01-e5cc7ed26d68"
      },
      "outputs": [
        {
          "data": {
            "text/plain": [
              "array([0, 0, 0])"
            ]
          },
          "execution_count": 8,
          "metadata": {},
          "output_type": "execute_result"
        }
      ],
      "source": [
        "#VIEW FEW ENCODED NUMERICAL TARGETS\n",
        "breast.target[0:3]"
      ]
    },
    {
      "cell_type": "code",
      "execution_count": null,
      "metadata": {
        "colab": {
          "base_uri": "https://localhost:8080/",
          "height": 334
        },
        "id": "O-KPNkKDTBPI",
        "outputId": "f1933b88-7a4f-4c2f-a227-72c975f496e7"
      },
      "outputs": [
        {
          "data": {
            "text/html": [
              "\n",
              "  <div id=\"df-15deff9f-c887-4c22-ba7d-a2b3a63e06d5\">\n",
              "    <div class=\"colab-df-container\">\n",
              "      <div>\n",
              "<style scoped>\n",
              "    .dataframe tbody tr th:only-of-type {\n",
              "        vertical-align: middle;\n",
              "    }\n",
              "\n",
              "    .dataframe tbody tr th {\n",
              "        vertical-align: top;\n",
              "    }\n",
              "\n",
              "    .dataframe thead th {\n",
              "        text-align: right;\n",
              "    }\n",
              "</style>\n",
              "<table border=\"1\" class=\"dataframe\">\n",
              "  <thead>\n",
              "    <tr style=\"text-align: right;\">\n",
              "      <th></th>\n",
              "      <th>mean radius</th>\n",
              "      <th>mean texture</th>\n",
              "      <th>mean perimeter</th>\n",
              "      <th>mean area</th>\n",
              "      <th>mean smoothness</th>\n",
              "      <th>mean compactness</th>\n",
              "      <th>mean concavity</th>\n",
              "      <th>mean concave points</th>\n",
              "      <th>mean symmetry</th>\n",
              "      <th>mean fractal dimension</th>\n",
              "      <th>...</th>\n",
              "      <th>worst radius</th>\n",
              "      <th>worst texture</th>\n",
              "      <th>worst perimeter</th>\n",
              "      <th>worst area</th>\n",
              "      <th>worst smoothness</th>\n",
              "      <th>worst compactness</th>\n",
              "      <th>worst concavity</th>\n",
              "      <th>worst concave points</th>\n",
              "      <th>worst symmetry</th>\n",
              "      <th>worst fractal dimension</th>\n",
              "    </tr>\n",
              "  </thead>\n",
              "  <tbody>\n",
              "    <tr>\n",
              "      <th>0</th>\n",
              "      <td>17.99</td>\n",
              "      <td>10.38</td>\n",
              "      <td>122.80</td>\n",
              "      <td>1001.0</td>\n",
              "      <td>0.11840</td>\n",
              "      <td>0.27760</td>\n",
              "      <td>0.3001</td>\n",
              "      <td>0.14710</td>\n",
              "      <td>0.2419</td>\n",
              "      <td>0.07871</td>\n",
              "      <td>...</td>\n",
              "      <td>25.38</td>\n",
              "      <td>17.33</td>\n",
              "      <td>184.60</td>\n",
              "      <td>2019.0</td>\n",
              "      <td>0.1622</td>\n",
              "      <td>0.6656</td>\n",
              "      <td>0.7119</td>\n",
              "      <td>0.2654</td>\n",
              "      <td>0.4601</td>\n",
              "      <td>0.11890</td>\n",
              "    </tr>\n",
              "    <tr>\n",
              "      <th>1</th>\n",
              "      <td>20.57</td>\n",
              "      <td>17.77</td>\n",
              "      <td>132.90</td>\n",
              "      <td>1326.0</td>\n",
              "      <td>0.08474</td>\n",
              "      <td>0.07864</td>\n",
              "      <td>0.0869</td>\n",
              "      <td>0.07017</td>\n",
              "      <td>0.1812</td>\n",
              "      <td>0.05667</td>\n",
              "      <td>...</td>\n",
              "      <td>24.99</td>\n",
              "      <td>23.41</td>\n",
              "      <td>158.80</td>\n",
              "      <td>1956.0</td>\n",
              "      <td>0.1238</td>\n",
              "      <td>0.1866</td>\n",
              "      <td>0.2416</td>\n",
              "      <td>0.1860</td>\n",
              "      <td>0.2750</td>\n",
              "      <td>0.08902</td>\n",
              "    </tr>\n",
              "    <tr>\n",
              "      <th>2</th>\n",
              "      <td>19.69</td>\n",
              "      <td>21.25</td>\n",
              "      <td>130.00</td>\n",
              "      <td>1203.0</td>\n",
              "      <td>0.10960</td>\n",
              "      <td>0.15990</td>\n",
              "      <td>0.1974</td>\n",
              "      <td>0.12790</td>\n",
              "      <td>0.2069</td>\n",
              "      <td>0.05999</td>\n",
              "      <td>...</td>\n",
              "      <td>23.57</td>\n",
              "      <td>25.53</td>\n",
              "      <td>152.50</td>\n",
              "      <td>1709.0</td>\n",
              "      <td>0.1444</td>\n",
              "      <td>0.4245</td>\n",
              "      <td>0.4504</td>\n",
              "      <td>0.2430</td>\n",
              "      <td>0.3613</td>\n",
              "      <td>0.08758</td>\n",
              "    </tr>\n",
              "    <tr>\n",
              "      <th>3</th>\n",
              "      <td>11.42</td>\n",
              "      <td>20.38</td>\n",
              "      <td>77.58</td>\n",
              "      <td>386.1</td>\n",
              "      <td>0.14250</td>\n",
              "      <td>0.28390</td>\n",
              "      <td>0.2414</td>\n",
              "      <td>0.10520</td>\n",
              "      <td>0.2597</td>\n",
              "      <td>0.09744</td>\n",
              "      <td>...</td>\n",
              "      <td>14.91</td>\n",
              "      <td>26.50</td>\n",
              "      <td>98.87</td>\n",
              "      <td>567.7</td>\n",
              "      <td>0.2098</td>\n",
              "      <td>0.8663</td>\n",
              "      <td>0.6869</td>\n",
              "      <td>0.2575</td>\n",
              "      <td>0.6638</td>\n",
              "      <td>0.17300</td>\n",
              "    </tr>\n",
              "    <tr>\n",
              "      <th>4</th>\n",
              "      <td>20.29</td>\n",
              "      <td>14.34</td>\n",
              "      <td>135.10</td>\n",
              "      <td>1297.0</td>\n",
              "      <td>0.10030</td>\n",
              "      <td>0.13280</td>\n",
              "      <td>0.1980</td>\n",
              "      <td>0.10430</td>\n",
              "      <td>0.1809</td>\n",
              "      <td>0.05883</td>\n",
              "      <td>...</td>\n",
              "      <td>22.54</td>\n",
              "      <td>16.67</td>\n",
              "      <td>152.20</td>\n",
              "      <td>1575.0</td>\n",
              "      <td>0.1374</td>\n",
              "      <td>0.2050</td>\n",
              "      <td>0.4000</td>\n",
              "      <td>0.1625</td>\n",
              "      <td>0.2364</td>\n",
              "      <td>0.07678</td>\n",
              "    </tr>\n",
              "  </tbody>\n",
              "</table>\n",
              "<p>5 rows × 30 columns</p>\n",
              "</div>\n",
              "      <button class=\"colab-df-convert\" onclick=\"convertToInteractive('df-15deff9f-c887-4c22-ba7d-a2b3a63e06d5')\"\n",
              "              title=\"Convert this dataframe to an interactive table.\"\n",
              "              style=\"display:none;\">\n",
              "        \n",
              "  <svg xmlns=\"http://www.w3.org/2000/svg\" height=\"24px\"viewBox=\"0 0 24 24\"\n",
              "       width=\"24px\">\n",
              "    <path d=\"M0 0h24v24H0V0z\" fill=\"none\"/>\n",
              "    <path d=\"M18.56 5.44l.94 2.06.94-2.06 2.06-.94-2.06-.94-.94-2.06-.94 2.06-2.06.94zm-11 1L8.5 8.5l.94-2.06 2.06-.94-2.06-.94L8.5 2.5l-.94 2.06-2.06.94zm10 10l.94 2.06.94-2.06 2.06-.94-2.06-.94-.94-2.06-.94 2.06-2.06.94z\"/><path d=\"M17.41 7.96l-1.37-1.37c-.4-.4-.92-.59-1.43-.59-.52 0-1.04.2-1.43.59L10.3 9.45l-7.72 7.72c-.78.78-.78 2.05 0 2.83L4 21.41c.39.39.9.59 1.41.59.51 0 1.02-.2 1.41-.59l7.78-7.78 2.81-2.81c.8-.78.8-2.07 0-2.86zM5.41 20L4 18.59l7.72-7.72 1.47 1.35L5.41 20z\"/>\n",
              "  </svg>\n",
              "      </button>\n",
              "      \n",
              "  <style>\n",
              "    .colab-df-container {\n",
              "      display:flex;\n",
              "      flex-wrap:wrap;\n",
              "      gap: 12px;\n",
              "    }\n",
              "\n",
              "    .colab-df-convert {\n",
              "      background-color: #E8F0FE;\n",
              "      border: none;\n",
              "      border-radius: 50%;\n",
              "      cursor: pointer;\n",
              "      display: none;\n",
              "      fill: #1967D2;\n",
              "      height: 32px;\n",
              "      padding: 0 0 0 0;\n",
              "      width: 32px;\n",
              "    }\n",
              "\n",
              "    .colab-df-convert:hover {\n",
              "      background-color: #E2EBFA;\n",
              "      box-shadow: 0px 1px 2px rgba(60, 64, 67, 0.3), 0px 1px 3px 1px rgba(60, 64, 67, 0.15);\n",
              "      fill: #174EA6;\n",
              "    }\n",
              "\n",
              "    [theme=dark] .colab-df-convert {\n",
              "      background-color: #3B4455;\n",
              "      fill: #D2E3FC;\n",
              "    }\n",
              "\n",
              "    [theme=dark] .colab-df-convert:hover {\n",
              "      background-color: #434B5C;\n",
              "      box-shadow: 0px 1px 3px 1px rgba(0, 0, 0, 0.15);\n",
              "      filter: drop-shadow(0px 1px 2px rgba(0, 0, 0, 0.3));\n",
              "      fill: #FFFFFF;\n",
              "    }\n",
              "  </style>\n",
              "\n",
              "      <script>\n",
              "        const buttonEl =\n",
              "          document.querySelector('#df-15deff9f-c887-4c22-ba7d-a2b3a63e06d5 button.colab-df-convert');\n",
              "        buttonEl.style.display =\n",
              "          google.colab.kernel.accessAllowed ? 'block' : 'none';\n",
              "\n",
              "        async function convertToInteractive(key) {\n",
              "          const element = document.querySelector('#df-15deff9f-c887-4c22-ba7d-a2b3a63e06d5');\n",
              "          const dataTable =\n",
              "            await google.colab.kernel.invokeFunction('convertToInteractive',\n",
              "                                                     [key], {});\n",
              "          if (!dataTable) return;\n",
              "\n",
              "          const docLinkHtml = 'Like what you see? Visit the ' +\n",
              "            '<a target=\"_blank\" href=https://colab.research.google.com/notebooks/data_table.ipynb>data table notebook</a>'\n",
              "            + ' to learn more about interactive tables.';\n",
              "          element.innerHTML = '';\n",
              "          dataTable['output_type'] = 'display_data';\n",
              "          await google.colab.output.renderOutput(dataTable, element);\n",
              "          const docLink = document.createElement('div');\n",
              "          docLink.innerHTML = docLinkHtml;\n",
              "          element.appendChild(docLink);\n",
              "        }\n",
              "      </script>\n",
              "    </div>\n",
              "  </div>\n",
              "  "
            ],
            "text/plain": [
              "   mean radius  mean texture  mean perimeter  mean area  mean smoothness  \\\n",
              "0        17.99         10.38          122.80     1001.0          0.11840   \n",
              "1        20.57         17.77          132.90     1326.0          0.08474   \n",
              "2        19.69         21.25          130.00     1203.0          0.10960   \n",
              "3        11.42         20.38           77.58      386.1          0.14250   \n",
              "4        20.29         14.34          135.10     1297.0          0.10030   \n",
              "\n",
              "   mean compactness  mean concavity  mean concave points  mean symmetry  \\\n",
              "0           0.27760          0.3001              0.14710         0.2419   \n",
              "1           0.07864          0.0869              0.07017         0.1812   \n",
              "2           0.15990          0.1974              0.12790         0.2069   \n",
              "3           0.28390          0.2414              0.10520         0.2597   \n",
              "4           0.13280          0.1980              0.10430         0.1809   \n",
              "\n",
              "   mean fractal dimension  ...  worst radius  worst texture  worst perimeter  \\\n",
              "0                 0.07871  ...         25.38          17.33           184.60   \n",
              "1                 0.05667  ...         24.99          23.41           158.80   \n",
              "2                 0.05999  ...         23.57          25.53           152.50   \n",
              "3                 0.09744  ...         14.91          26.50            98.87   \n",
              "4                 0.05883  ...         22.54          16.67           152.20   \n",
              "\n",
              "   worst area  worst smoothness  worst compactness  worst concavity  \\\n",
              "0      2019.0            0.1622             0.6656           0.7119   \n",
              "1      1956.0            0.1238             0.1866           0.2416   \n",
              "2      1709.0            0.1444             0.4245           0.4504   \n",
              "3       567.7            0.2098             0.8663           0.6869   \n",
              "4      1575.0            0.1374             0.2050           0.4000   \n",
              "\n",
              "   worst concave points  worst symmetry  worst fractal dimension  \n",
              "0                0.2654          0.4601                  0.11890  \n",
              "1                0.1860          0.2750                  0.08902  \n",
              "2                0.2430          0.3613                  0.08758  \n",
              "3                0.2575          0.6638                  0.17300  \n",
              "4                0.1625          0.2364                  0.07678  \n",
              "\n",
              "[5 rows x 30 columns]"
            ]
          },
          "execution_count": 9,
          "metadata": {},
          "output_type": "execute_result"
        }
      ],
      "source": [
        "#FORM A PANDAS DATAFRAME WITH BREAST CANCER DATA WITH INDEPENDENT FEATURE VALUES\n",
        "df = pd.DataFrame(breast.data,columns=breast.feature_names)\n",
        "df.head()"
      ]
    },
    {
      "cell_type": "code",
      "execution_count": null,
      "metadata": {
        "colab": {
          "base_uri": "https://localhost:8080/",
          "height": 805
        },
        "id": "RhmMIdStTBPI",
        "outputId": "9a22332b-b9b8-4aab-dd5f-2cb1c8f93542"
      },
      "outputs": [
        {
          "data": {
            "text/html": [
              "\n",
              "  <div id=\"df-403c2efe-8de9-4982-a7a2-daabbd61b9c5\">\n",
              "    <div class=\"colab-df-container\">\n",
              "      <div>\n",
              "<style scoped>\n",
              "    .dataframe tbody tr th:only-of-type {\n",
              "        vertical-align: middle;\n",
              "    }\n",
              "\n",
              "    .dataframe tbody tr th {\n",
              "        vertical-align: top;\n",
              "    }\n",
              "\n",
              "    .dataframe thead th {\n",
              "        text-align: right;\n",
              "    }\n",
              "</style>\n",
              "<table border=\"1\" class=\"dataframe\">\n",
              "  <thead>\n",
              "    <tr style=\"text-align: right;\">\n",
              "      <th></th>\n",
              "      <th>mean radius</th>\n",
              "      <th>mean texture</th>\n",
              "      <th>mean perimeter</th>\n",
              "      <th>mean area</th>\n",
              "      <th>mean smoothness</th>\n",
              "      <th>mean compactness</th>\n",
              "      <th>mean concavity</th>\n",
              "      <th>mean concave points</th>\n",
              "      <th>mean symmetry</th>\n",
              "      <th>mean fractal dimension</th>\n",
              "      <th>...</th>\n",
              "      <th>worst texture</th>\n",
              "      <th>worst perimeter</th>\n",
              "      <th>worst area</th>\n",
              "      <th>worst smoothness</th>\n",
              "      <th>worst compactness</th>\n",
              "      <th>worst concavity</th>\n",
              "      <th>worst concave points</th>\n",
              "      <th>worst symmetry</th>\n",
              "      <th>worst fractal dimension</th>\n",
              "      <th>target</th>\n",
              "    </tr>\n",
              "  </thead>\n",
              "  <tbody>\n",
              "    <tr>\n",
              "      <th>50</th>\n",
              "      <td>11.760</td>\n",
              "      <td>21.60</td>\n",
              "      <td>74.72</td>\n",
              "      <td>427.9</td>\n",
              "      <td>0.08637</td>\n",
              "      <td>0.04966</td>\n",
              "      <td>0.016570</td>\n",
              "      <td>0.011150</td>\n",
              "      <td>0.1495</td>\n",
              "      <td>0.05888</td>\n",
              "      <td>...</td>\n",
              "      <td>25.72</td>\n",
              "      <td>82.98</td>\n",
              "      <td>516.5</td>\n",
              "      <td>0.10850</td>\n",
              "      <td>0.08615</td>\n",
              "      <td>0.055230</td>\n",
              "      <td>0.03715</td>\n",
              "      <td>0.2433</td>\n",
              "      <td>0.06563</td>\n",
              "      <td>1</td>\n",
              "    </tr>\n",
              "    <tr>\n",
              "      <th>51</th>\n",
              "      <td>13.640</td>\n",
              "      <td>16.34</td>\n",
              "      <td>87.21</td>\n",
              "      <td>571.8</td>\n",
              "      <td>0.07685</td>\n",
              "      <td>0.06059</td>\n",
              "      <td>0.018570</td>\n",
              "      <td>0.017230</td>\n",
              "      <td>0.1353</td>\n",
              "      <td>0.05953</td>\n",
              "      <td>...</td>\n",
              "      <td>23.19</td>\n",
              "      <td>96.08</td>\n",
              "      <td>656.7</td>\n",
              "      <td>0.10890</td>\n",
              "      <td>0.15820</td>\n",
              "      <td>0.105000</td>\n",
              "      <td>0.08586</td>\n",
              "      <td>0.2346</td>\n",
              "      <td>0.08025</td>\n",
              "      <td>1</td>\n",
              "    </tr>\n",
              "    <tr>\n",
              "      <th>52</th>\n",
              "      <td>11.940</td>\n",
              "      <td>18.24</td>\n",
              "      <td>75.71</td>\n",
              "      <td>437.6</td>\n",
              "      <td>0.08261</td>\n",
              "      <td>0.04751</td>\n",
              "      <td>0.019720</td>\n",
              "      <td>0.013490</td>\n",
              "      <td>0.1868</td>\n",
              "      <td>0.06110</td>\n",
              "      <td>...</td>\n",
              "      <td>21.33</td>\n",
              "      <td>83.67</td>\n",
              "      <td>527.2</td>\n",
              "      <td>0.11440</td>\n",
              "      <td>0.08906</td>\n",
              "      <td>0.092030</td>\n",
              "      <td>0.06296</td>\n",
              "      <td>0.2785</td>\n",
              "      <td>0.07408</td>\n",
              "      <td>1</td>\n",
              "    </tr>\n",
              "    <tr>\n",
              "      <th>53</th>\n",
              "      <td>18.220</td>\n",
              "      <td>18.70</td>\n",
              "      <td>120.30</td>\n",
              "      <td>1033.0</td>\n",
              "      <td>0.11480</td>\n",
              "      <td>0.14850</td>\n",
              "      <td>0.177200</td>\n",
              "      <td>0.106000</td>\n",
              "      <td>0.2092</td>\n",
              "      <td>0.06310</td>\n",
              "      <td>...</td>\n",
              "      <td>24.13</td>\n",
              "      <td>135.10</td>\n",
              "      <td>1321.0</td>\n",
              "      <td>0.12800</td>\n",
              "      <td>0.22970</td>\n",
              "      <td>0.262300</td>\n",
              "      <td>0.13250</td>\n",
              "      <td>0.3021</td>\n",
              "      <td>0.07987</td>\n",
              "      <td>0</td>\n",
              "    </tr>\n",
              "    <tr>\n",
              "      <th>54</th>\n",
              "      <td>15.100</td>\n",
              "      <td>22.02</td>\n",
              "      <td>97.26</td>\n",
              "      <td>712.8</td>\n",
              "      <td>0.09056</td>\n",
              "      <td>0.07081</td>\n",
              "      <td>0.052530</td>\n",
              "      <td>0.033340</td>\n",
              "      <td>0.1616</td>\n",
              "      <td>0.05684</td>\n",
              "      <td>...</td>\n",
              "      <td>31.69</td>\n",
              "      <td>117.70</td>\n",
              "      <td>1030.0</td>\n",
              "      <td>0.13890</td>\n",
              "      <td>0.20570</td>\n",
              "      <td>0.271200</td>\n",
              "      <td>0.15300</td>\n",
              "      <td>0.2675</td>\n",
              "      <td>0.07873</td>\n",
              "      <td>0</td>\n",
              "    </tr>\n",
              "    <tr>\n",
              "      <th>55</th>\n",
              "      <td>11.520</td>\n",
              "      <td>18.75</td>\n",
              "      <td>73.34</td>\n",
              "      <td>409.0</td>\n",
              "      <td>0.09524</td>\n",
              "      <td>0.05473</td>\n",
              "      <td>0.030360</td>\n",
              "      <td>0.022780</td>\n",
              "      <td>0.1920</td>\n",
              "      <td>0.05907</td>\n",
              "      <td>...</td>\n",
              "      <td>22.47</td>\n",
              "      <td>81.81</td>\n",
              "      <td>506.2</td>\n",
              "      <td>0.12490</td>\n",
              "      <td>0.08720</td>\n",
              "      <td>0.090760</td>\n",
              "      <td>0.06316</td>\n",
              "      <td>0.3306</td>\n",
              "      <td>0.07036</td>\n",
              "      <td>1</td>\n",
              "    </tr>\n",
              "    <tr>\n",
              "      <th>56</th>\n",
              "      <td>19.210</td>\n",
              "      <td>18.57</td>\n",
              "      <td>125.50</td>\n",
              "      <td>1152.0</td>\n",
              "      <td>0.10530</td>\n",
              "      <td>0.12670</td>\n",
              "      <td>0.132300</td>\n",
              "      <td>0.089940</td>\n",
              "      <td>0.1917</td>\n",
              "      <td>0.05961</td>\n",
              "      <td>...</td>\n",
              "      <td>28.14</td>\n",
              "      <td>170.10</td>\n",
              "      <td>2145.0</td>\n",
              "      <td>0.16240</td>\n",
              "      <td>0.35110</td>\n",
              "      <td>0.387900</td>\n",
              "      <td>0.20910</td>\n",
              "      <td>0.3537</td>\n",
              "      <td>0.08294</td>\n",
              "      <td>0</td>\n",
              "    </tr>\n",
              "    <tr>\n",
              "      <th>57</th>\n",
              "      <td>14.710</td>\n",
              "      <td>21.59</td>\n",
              "      <td>95.55</td>\n",
              "      <td>656.9</td>\n",
              "      <td>0.11370</td>\n",
              "      <td>0.13650</td>\n",
              "      <td>0.129300</td>\n",
              "      <td>0.081230</td>\n",
              "      <td>0.2027</td>\n",
              "      <td>0.06758</td>\n",
              "      <td>...</td>\n",
              "      <td>30.70</td>\n",
              "      <td>115.70</td>\n",
              "      <td>985.5</td>\n",
              "      <td>0.13680</td>\n",
              "      <td>0.42900</td>\n",
              "      <td>0.358700</td>\n",
              "      <td>0.18340</td>\n",
              "      <td>0.3698</td>\n",
              "      <td>0.10940</td>\n",
              "      <td>0</td>\n",
              "    </tr>\n",
              "    <tr>\n",
              "      <th>58</th>\n",
              "      <td>13.050</td>\n",
              "      <td>19.31</td>\n",
              "      <td>82.61</td>\n",
              "      <td>527.2</td>\n",
              "      <td>0.08060</td>\n",
              "      <td>0.03789</td>\n",
              "      <td>0.000692</td>\n",
              "      <td>0.004167</td>\n",
              "      <td>0.1819</td>\n",
              "      <td>0.05501</td>\n",
              "      <td>...</td>\n",
              "      <td>22.25</td>\n",
              "      <td>90.24</td>\n",
              "      <td>624.1</td>\n",
              "      <td>0.10210</td>\n",
              "      <td>0.06191</td>\n",
              "      <td>0.001845</td>\n",
              "      <td>0.01111</td>\n",
              "      <td>0.2439</td>\n",
              "      <td>0.06289</td>\n",
              "      <td>1</td>\n",
              "    </tr>\n",
              "    <tr>\n",
              "      <th>59</th>\n",
              "      <td>8.618</td>\n",
              "      <td>11.79</td>\n",
              "      <td>54.34</td>\n",
              "      <td>224.5</td>\n",
              "      <td>0.09752</td>\n",
              "      <td>0.05272</td>\n",
              "      <td>0.020610</td>\n",
              "      <td>0.007799</td>\n",
              "      <td>0.1683</td>\n",
              "      <td>0.07187</td>\n",
              "      <td>...</td>\n",
              "      <td>15.40</td>\n",
              "      <td>59.90</td>\n",
              "      <td>274.9</td>\n",
              "      <td>0.17330</td>\n",
              "      <td>0.12390</td>\n",
              "      <td>0.116800</td>\n",
              "      <td>0.04419</td>\n",
              "      <td>0.3220</td>\n",
              "      <td>0.09026</td>\n",
              "      <td>1</td>\n",
              "    </tr>\n",
              "    <tr>\n",
              "      <th>60</th>\n",
              "      <td>10.170</td>\n",
              "      <td>14.88</td>\n",
              "      <td>64.55</td>\n",
              "      <td>311.9</td>\n",
              "      <td>0.11340</td>\n",
              "      <td>0.08061</td>\n",
              "      <td>0.010840</td>\n",
              "      <td>0.012900</td>\n",
              "      <td>0.2743</td>\n",
              "      <td>0.06960</td>\n",
              "      <td>...</td>\n",
              "      <td>17.45</td>\n",
              "      <td>69.86</td>\n",
              "      <td>368.6</td>\n",
              "      <td>0.12750</td>\n",
              "      <td>0.09866</td>\n",
              "      <td>0.021680</td>\n",
              "      <td>0.02579</td>\n",
              "      <td>0.3557</td>\n",
              "      <td>0.08020</td>\n",
              "      <td>1</td>\n",
              "    </tr>\n",
              "    <tr>\n",
              "      <th>61</th>\n",
              "      <td>8.598</td>\n",
              "      <td>20.98</td>\n",
              "      <td>54.66</td>\n",
              "      <td>221.8</td>\n",
              "      <td>0.12430</td>\n",
              "      <td>0.08963</td>\n",
              "      <td>0.030000</td>\n",
              "      <td>0.009259</td>\n",
              "      <td>0.1828</td>\n",
              "      <td>0.06757</td>\n",
              "      <td>...</td>\n",
              "      <td>27.04</td>\n",
              "      <td>62.06</td>\n",
              "      <td>273.9</td>\n",
              "      <td>0.16390</td>\n",
              "      <td>0.16980</td>\n",
              "      <td>0.090010</td>\n",
              "      <td>0.02778</td>\n",
              "      <td>0.2972</td>\n",
              "      <td>0.07712</td>\n",
              "      <td>1</td>\n",
              "    </tr>\n",
              "    <tr>\n",
              "      <th>62</th>\n",
              "      <td>14.250</td>\n",
              "      <td>22.15</td>\n",
              "      <td>96.42</td>\n",
              "      <td>645.7</td>\n",
              "      <td>0.10490</td>\n",
              "      <td>0.20080</td>\n",
              "      <td>0.213500</td>\n",
              "      <td>0.086530</td>\n",
              "      <td>0.1949</td>\n",
              "      <td>0.07292</td>\n",
              "      <td>...</td>\n",
              "      <td>29.51</td>\n",
              "      <td>119.10</td>\n",
              "      <td>959.5</td>\n",
              "      <td>0.16400</td>\n",
              "      <td>0.62470</td>\n",
              "      <td>0.692200</td>\n",
              "      <td>0.17850</td>\n",
              "      <td>0.2844</td>\n",
              "      <td>0.11320</td>\n",
              "      <td>0</td>\n",
              "    </tr>\n",
              "    <tr>\n",
              "      <th>63</th>\n",
              "      <td>9.173</td>\n",
              "      <td>13.86</td>\n",
              "      <td>59.20</td>\n",
              "      <td>260.9</td>\n",
              "      <td>0.07721</td>\n",
              "      <td>0.08751</td>\n",
              "      <td>0.059880</td>\n",
              "      <td>0.021800</td>\n",
              "      <td>0.2341</td>\n",
              "      <td>0.06963</td>\n",
              "      <td>...</td>\n",
              "      <td>19.23</td>\n",
              "      <td>65.59</td>\n",
              "      <td>310.1</td>\n",
              "      <td>0.09836</td>\n",
              "      <td>0.16780</td>\n",
              "      <td>0.139700</td>\n",
              "      <td>0.05087</td>\n",
              "      <td>0.3282</td>\n",
              "      <td>0.08490</td>\n",
              "      <td>1</td>\n",
              "    </tr>\n",
              "    <tr>\n",
              "      <th>64</th>\n",
              "      <td>12.680</td>\n",
              "      <td>23.84</td>\n",
              "      <td>82.69</td>\n",
              "      <td>499.0</td>\n",
              "      <td>0.11220</td>\n",
              "      <td>0.12620</td>\n",
              "      <td>0.112800</td>\n",
              "      <td>0.068730</td>\n",
              "      <td>0.1905</td>\n",
              "      <td>0.06590</td>\n",
              "      <td>...</td>\n",
              "      <td>33.47</td>\n",
              "      <td>111.80</td>\n",
              "      <td>888.3</td>\n",
              "      <td>0.18510</td>\n",
              "      <td>0.40610</td>\n",
              "      <td>0.402400</td>\n",
              "      <td>0.17160</td>\n",
              "      <td>0.3383</td>\n",
              "      <td>0.10310</td>\n",
              "      <td>0</td>\n",
              "    </tr>\n",
              "    <tr>\n",
              "      <th>65</th>\n",
              "      <td>14.780</td>\n",
              "      <td>23.94</td>\n",
              "      <td>97.40</td>\n",
              "      <td>668.3</td>\n",
              "      <td>0.11720</td>\n",
              "      <td>0.14790</td>\n",
              "      <td>0.126700</td>\n",
              "      <td>0.090290</td>\n",
              "      <td>0.1953</td>\n",
              "      <td>0.06654</td>\n",
              "      <td>...</td>\n",
              "      <td>33.39</td>\n",
              "      <td>114.60</td>\n",
              "      <td>925.1</td>\n",
              "      <td>0.16480</td>\n",
              "      <td>0.34160</td>\n",
              "      <td>0.302400</td>\n",
              "      <td>0.16140</td>\n",
              "      <td>0.3321</td>\n",
              "      <td>0.08911</td>\n",
              "      <td>0</td>\n",
              "    </tr>\n",
              "    <tr>\n",
              "      <th>66</th>\n",
              "      <td>9.465</td>\n",
              "      <td>21.01</td>\n",
              "      <td>60.11</td>\n",
              "      <td>269.4</td>\n",
              "      <td>0.10440</td>\n",
              "      <td>0.07773</td>\n",
              "      <td>0.021720</td>\n",
              "      <td>0.015040</td>\n",
              "      <td>0.1717</td>\n",
              "      <td>0.06899</td>\n",
              "      <td>...</td>\n",
              "      <td>31.56</td>\n",
              "      <td>67.03</td>\n",
              "      <td>330.7</td>\n",
              "      <td>0.15480</td>\n",
              "      <td>0.16640</td>\n",
              "      <td>0.094120</td>\n",
              "      <td>0.06517</td>\n",
              "      <td>0.2878</td>\n",
              "      <td>0.09211</td>\n",
              "      <td>1</td>\n",
              "    </tr>\n",
              "    <tr>\n",
              "      <th>67</th>\n",
              "      <td>11.310</td>\n",
              "      <td>19.04</td>\n",
              "      <td>71.80</td>\n",
              "      <td>394.1</td>\n",
              "      <td>0.08139</td>\n",
              "      <td>0.04701</td>\n",
              "      <td>0.037090</td>\n",
              "      <td>0.022300</td>\n",
              "      <td>0.1516</td>\n",
              "      <td>0.05667</td>\n",
              "      <td>...</td>\n",
              "      <td>23.84</td>\n",
              "      <td>78.00</td>\n",
              "      <td>466.7</td>\n",
              "      <td>0.12900</td>\n",
              "      <td>0.09148</td>\n",
              "      <td>0.144400</td>\n",
              "      <td>0.06961</td>\n",
              "      <td>0.2400</td>\n",
              "      <td>0.06641</td>\n",
              "      <td>1</td>\n",
              "    </tr>\n",
              "    <tr>\n",
              "      <th>68</th>\n",
              "      <td>9.029</td>\n",
              "      <td>17.33</td>\n",
              "      <td>58.79</td>\n",
              "      <td>250.5</td>\n",
              "      <td>0.10660</td>\n",
              "      <td>0.14130</td>\n",
              "      <td>0.313000</td>\n",
              "      <td>0.043750</td>\n",
              "      <td>0.2111</td>\n",
              "      <td>0.08046</td>\n",
              "      <td>...</td>\n",
              "      <td>22.65</td>\n",
              "      <td>65.50</td>\n",
              "      <td>324.7</td>\n",
              "      <td>0.14820</td>\n",
              "      <td>0.43650</td>\n",
              "      <td>1.252000</td>\n",
              "      <td>0.17500</td>\n",
              "      <td>0.4228</td>\n",
              "      <td>0.11750</td>\n",
              "      <td>1</td>\n",
              "    </tr>\n",
              "    <tr>\n",
              "      <th>69</th>\n",
              "      <td>12.780</td>\n",
              "      <td>16.49</td>\n",
              "      <td>81.37</td>\n",
              "      <td>502.5</td>\n",
              "      <td>0.09831</td>\n",
              "      <td>0.05234</td>\n",
              "      <td>0.036530</td>\n",
              "      <td>0.028640</td>\n",
              "      <td>0.1590</td>\n",
              "      <td>0.05653</td>\n",
              "      <td>...</td>\n",
              "      <td>19.76</td>\n",
              "      <td>85.67</td>\n",
              "      <td>554.9</td>\n",
              "      <td>0.12960</td>\n",
              "      <td>0.07061</td>\n",
              "      <td>0.103900</td>\n",
              "      <td>0.05882</td>\n",
              "      <td>0.2383</td>\n",
              "      <td>0.06410</td>\n",
              "      <td>1</td>\n",
              "    </tr>\n",
              "  </tbody>\n",
              "</table>\n",
              "<p>20 rows × 31 columns</p>\n",
              "</div>\n",
              "      <button class=\"colab-df-convert\" onclick=\"convertToInteractive('df-403c2efe-8de9-4982-a7a2-daabbd61b9c5')\"\n",
              "              title=\"Convert this dataframe to an interactive table.\"\n",
              "              style=\"display:none;\">\n",
              "        \n",
              "  <svg xmlns=\"http://www.w3.org/2000/svg\" height=\"24px\"viewBox=\"0 0 24 24\"\n",
              "       width=\"24px\">\n",
              "    <path d=\"M0 0h24v24H0V0z\" fill=\"none\"/>\n",
              "    <path d=\"M18.56 5.44l.94 2.06.94-2.06 2.06-.94-2.06-.94-.94-2.06-.94 2.06-2.06.94zm-11 1L8.5 8.5l.94-2.06 2.06-.94-2.06-.94L8.5 2.5l-.94 2.06-2.06.94zm10 10l.94 2.06.94-2.06 2.06-.94-2.06-.94-.94-2.06-.94 2.06-2.06.94z\"/><path d=\"M17.41 7.96l-1.37-1.37c-.4-.4-.92-.59-1.43-.59-.52 0-1.04.2-1.43.59L10.3 9.45l-7.72 7.72c-.78.78-.78 2.05 0 2.83L4 21.41c.39.39.9.59 1.41.59.51 0 1.02-.2 1.41-.59l7.78-7.78 2.81-2.81c.8-.78.8-2.07 0-2.86zM5.41 20L4 18.59l7.72-7.72 1.47 1.35L5.41 20z\"/>\n",
              "  </svg>\n",
              "      </button>\n",
              "      \n",
              "  <style>\n",
              "    .colab-df-container {\n",
              "      display:flex;\n",
              "      flex-wrap:wrap;\n",
              "      gap: 12px;\n",
              "    }\n",
              "\n",
              "    .colab-df-convert {\n",
              "      background-color: #E8F0FE;\n",
              "      border: none;\n",
              "      border-radius: 50%;\n",
              "      cursor: pointer;\n",
              "      display: none;\n",
              "      fill: #1967D2;\n",
              "      height: 32px;\n",
              "      padding: 0 0 0 0;\n",
              "      width: 32px;\n",
              "    }\n",
              "\n",
              "    .colab-df-convert:hover {\n",
              "      background-color: #E2EBFA;\n",
              "      box-shadow: 0px 1px 2px rgba(60, 64, 67, 0.3), 0px 1px 3px 1px rgba(60, 64, 67, 0.15);\n",
              "      fill: #174EA6;\n",
              "    }\n",
              "\n",
              "    [theme=dark] .colab-df-convert {\n",
              "      background-color: #3B4455;\n",
              "      fill: #D2E3FC;\n",
              "    }\n",
              "\n",
              "    [theme=dark] .colab-df-convert:hover {\n",
              "      background-color: #434B5C;\n",
              "      box-shadow: 0px 1px 3px 1px rgba(0, 0, 0, 0.15);\n",
              "      filter: drop-shadow(0px 1px 2px rgba(0, 0, 0, 0.3));\n",
              "      fill: #FFFFFF;\n",
              "    }\n",
              "  </style>\n",
              "\n",
              "      <script>\n",
              "        const buttonEl =\n",
              "          document.querySelector('#df-403c2efe-8de9-4982-a7a2-daabbd61b9c5 button.colab-df-convert');\n",
              "        buttonEl.style.display =\n",
              "          google.colab.kernel.accessAllowed ? 'block' : 'none';\n",
              "\n",
              "        async function convertToInteractive(key) {\n",
              "          const element = document.querySelector('#df-403c2efe-8de9-4982-a7a2-daabbd61b9c5');\n",
              "          const dataTable =\n",
              "            await google.colab.kernel.invokeFunction('convertToInteractive',\n",
              "                                                     [key], {});\n",
              "          if (!dataTable) return;\n",
              "\n",
              "          const docLinkHtml = 'Like what you see? Visit the ' +\n",
              "            '<a target=\"_blank\" href=https://colab.research.google.com/notebooks/data_table.ipynb>data table notebook</a>'\n",
              "            + ' to learn more about interactive tables.';\n",
              "          element.innerHTML = '';\n",
              "          dataTable['output_type'] = 'display_data';\n",
              "          await google.colab.output.renderOutput(dataTable, element);\n",
              "          const docLink = document.createElement('div');\n",
              "          docLink.innerHTML = docLinkHtml;\n",
              "          element.appendChild(docLink);\n",
              "        }\n",
              "      </script>\n",
              "    </div>\n",
              "  </div>\n",
              "  "
            ],
            "text/plain": [
              "    mean radius  mean texture  mean perimeter  mean area  mean smoothness  \\\n",
              "50       11.760         21.60           74.72      427.9          0.08637   \n",
              "51       13.640         16.34           87.21      571.8          0.07685   \n",
              "52       11.940         18.24           75.71      437.6          0.08261   \n",
              "53       18.220         18.70          120.30     1033.0          0.11480   \n",
              "54       15.100         22.02           97.26      712.8          0.09056   \n",
              "55       11.520         18.75           73.34      409.0          0.09524   \n",
              "56       19.210         18.57          125.50     1152.0          0.10530   \n",
              "57       14.710         21.59           95.55      656.9          0.11370   \n",
              "58       13.050         19.31           82.61      527.2          0.08060   \n",
              "59        8.618         11.79           54.34      224.5          0.09752   \n",
              "60       10.170         14.88           64.55      311.9          0.11340   \n",
              "61        8.598         20.98           54.66      221.8          0.12430   \n",
              "62       14.250         22.15           96.42      645.7          0.10490   \n",
              "63        9.173         13.86           59.20      260.9          0.07721   \n",
              "64       12.680         23.84           82.69      499.0          0.11220   \n",
              "65       14.780         23.94           97.40      668.3          0.11720   \n",
              "66        9.465         21.01           60.11      269.4          0.10440   \n",
              "67       11.310         19.04           71.80      394.1          0.08139   \n",
              "68        9.029         17.33           58.79      250.5          0.10660   \n",
              "69       12.780         16.49           81.37      502.5          0.09831   \n",
              "\n",
              "    mean compactness  mean concavity  mean concave points  mean symmetry  \\\n",
              "50           0.04966        0.016570             0.011150         0.1495   \n",
              "51           0.06059        0.018570             0.017230         0.1353   \n",
              "52           0.04751        0.019720             0.013490         0.1868   \n",
              "53           0.14850        0.177200             0.106000         0.2092   \n",
              "54           0.07081        0.052530             0.033340         0.1616   \n",
              "55           0.05473        0.030360             0.022780         0.1920   \n",
              "56           0.12670        0.132300             0.089940         0.1917   \n",
              "57           0.13650        0.129300             0.081230         0.2027   \n",
              "58           0.03789        0.000692             0.004167         0.1819   \n",
              "59           0.05272        0.020610             0.007799         0.1683   \n",
              "60           0.08061        0.010840             0.012900         0.2743   \n",
              "61           0.08963        0.030000             0.009259         0.1828   \n",
              "62           0.20080        0.213500             0.086530         0.1949   \n",
              "63           0.08751        0.059880             0.021800         0.2341   \n",
              "64           0.12620        0.112800             0.068730         0.1905   \n",
              "65           0.14790        0.126700             0.090290         0.1953   \n",
              "66           0.07773        0.021720             0.015040         0.1717   \n",
              "67           0.04701        0.037090             0.022300         0.1516   \n",
              "68           0.14130        0.313000             0.043750         0.2111   \n",
              "69           0.05234        0.036530             0.028640         0.1590   \n",
              "\n",
              "    mean fractal dimension  ...  worst texture  worst perimeter  worst area  \\\n",
              "50                 0.05888  ...          25.72            82.98       516.5   \n",
              "51                 0.05953  ...          23.19            96.08       656.7   \n",
              "52                 0.06110  ...          21.33            83.67       527.2   \n",
              "53                 0.06310  ...          24.13           135.10      1321.0   \n",
              "54                 0.05684  ...          31.69           117.70      1030.0   \n",
              "55                 0.05907  ...          22.47            81.81       506.2   \n",
              "56                 0.05961  ...          28.14           170.10      2145.0   \n",
              "57                 0.06758  ...          30.70           115.70       985.5   \n",
              "58                 0.05501  ...          22.25            90.24       624.1   \n",
              "59                 0.07187  ...          15.40            59.90       274.9   \n",
              "60                 0.06960  ...          17.45            69.86       368.6   \n",
              "61                 0.06757  ...          27.04            62.06       273.9   \n",
              "62                 0.07292  ...          29.51           119.10       959.5   \n",
              "63                 0.06963  ...          19.23            65.59       310.1   \n",
              "64                 0.06590  ...          33.47           111.80       888.3   \n",
              "65                 0.06654  ...          33.39           114.60       925.1   \n",
              "66                 0.06899  ...          31.56            67.03       330.7   \n",
              "67                 0.05667  ...          23.84            78.00       466.7   \n",
              "68                 0.08046  ...          22.65            65.50       324.7   \n",
              "69                 0.05653  ...          19.76            85.67       554.9   \n",
              "\n",
              "    worst smoothness  worst compactness  worst concavity  \\\n",
              "50           0.10850            0.08615         0.055230   \n",
              "51           0.10890            0.15820         0.105000   \n",
              "52           0.11440            0.08906         0.092030   \n",
              "53           0.12800            0.22970         0.262300   \n",
              "54           0.13890            0.20570         0.271200   \n",
              "55           0.12490            0.08720         0.090760   \n",
              "56           0.16240            0.35110         0.387900   \n",
              "57           0.13680            0.42900         0.358700   \n",
              "58           0.10210            0.06191         0.001845   \n",
              "59           0.17330            0.12390         0.116800   \n",
              "60           0.12750            0.09866         0.021680   \n",
              "61           0.16390            0.16980         0.090010   \n",
              "62           0.16400            0.62470         0.692200   \n",
              "63           0.09836            0.16780         0.139700   \n",
              "64           0.18510            0.40610         0.402400   \n",
              "65           0.16480            0.34160         0.302400   \n",
              "66           0.15480            0.16640         0.094120   \n",
              "67           0.12900            0.09148         0.144400   \n",
              "68           0.14820            0.43650         1.252000   \n",
              "69           0.12960            0.07061         0.103900   \n",
              "\n",
              "    worst concave points  worst symmetry  worst fractal dimension  target  \n",
              "50               0.03715          0.2433                  0.06563       1  \n",
              "51               0.08586          0.2346                  0.08025       1  \n",
              "52               0.06296          0.2785                  0.07408       1  \n",
              "53               0.13250          0.3021                  0.07987       0  \n",
              "54               0.15300          0.2675                  0.07873       0  \n",
              "55               0.06316          0.3306                  0.07036       1  \n",
              "56               0.20910          0.3537                  0.08294       0  \n",
              "57               0.18340          0.3698                  0.10940       0  \n",
              "58               0.01111          0.2439                  0.06289       1  \n",
              "59               0.04419          0.3220                  0.09026       1  \n",
              "60               0.02579          0.3557                  0.08020       1  \n",
              "61               0.02778          0.2972                  0.07712       1  \n",
              "62               0.17850          0.2844                  0.11320       0  \n",
              "63               0.05087          0.3282                  0.08490       1  \n",
              "64               0.17160          0.3383                  0.10310       0  \n",
              "65               0.16140          0.3321                  0.08911       0  \n",
              "66               0.06517          0.2878                  0.09211       1  \n",
              "67               0.06961          0.2400                  0.06641       1  \n",
              "68               0.17500          0.4228                  0.11750       1  \n",
              "69               0.05882          0.2383                  0.06410       1  \n",
              "\n",
              "[20 rows x 31 columns]"
            ]
          },
          "execution_count": 10,
          "metadata": {},
          "output_type": "execute_result"
        }
      ],
      "source": [
        "#ADD DEPENDANT VARIABLE COLUMN (TARGET)\n",
        "df['target'] = breast.target\n",
        "df[50:70]"
      ]
    },
    {
      "cell_type": "code",
      "execution_count": null,
      "metadata": {
        "id": "-FdFLk2peU7L"
      },
      "outputs": [],
      "source": [
        "#EXTRACT FEATURES FOR TRAINING AND TESTING (x)\n",
        "x=df.drop(['target'],axis = 'columns')\n",
        "x=x.values"
      ]
    },
    {
      "cell_type": "code",
      "execution_count": null,
      "metadata": {
        "id": "dYAA9BOpy9WW"
      },
      "outputs": [],
      "source": [
        "#EXTRACT TARGET VARIABLES (y)\n",
        "y=breast.target"
      ]
    },
    {
      "cell_type": "code",
      "execution_count": null,
      "metadata": {
        "id": "hzcAyOU_TBPJ"
      },
      "outputs": [],
      "source": [
        "#SPLIT DATA INTO TRAINING(0.7) AND TESTING (0.3)\n",
        "X_train, X_test, y_train, y_test = train_test_split(x, breast.target, test_size=0.3, random_state=100)"
      ]
    },
    {
      "cell_type": "markdown",
      "metadata": {
        "id": "WmtF1LjCSzeH"
      },
      "source": [
        "MODEL BUILDING"
      ]
    },
    {
      "cell_type": "markdown",
      "metadata": {
        "id": "PM7aGr7vTJoX"
      },
      "source": [
        "Naive Bayes and Logistic Regression\n",
        "\n",
        "For the Naive Bayes, I am going to use the  Gaussian Because looking at the number of features and their nature, Gaussion will be best suitable for this task."
      ]
    },
    {
      "cell_type": "code",
      "execution_count": null,
      "metadata": {
        "colab": {
          "base_uri": "https://localhost:8080/"
        },
        "id": "M2InP75icQ8F",
        "outputId": "35bde930-969f-4d84-f24f-2d026e9e6d6f"
      },
      "outputs": [
        {
          "data": {
            "text/plain": [
              "0.9239766081871345"
            ]
          },
          "execution_count": 15,
          "metadata": {},
          "output_type": "execute_result"
        }
      ],
      "source": [
        "#CREATE A NAIVE BAYES MODEL \n",
        "model = GaussianNB()\n",
        "model.fit(X_train,y_train)\n",
        "model.score(X_test,y_test)"
      ]
    },
    {
      "cell_type": "code",
      "execution_count": null,
      "metadata": {
        "colab": {
          "base_uri": "https://localhost:8080/"
        },
        "id": "XReEjVORdkWK",
        "outputId": "a8770946-9b3c-4e3a-a64a-86feb5652421"
      },
      "outputs": [
        {
          "data": {
            "text/plain": [
              "0.9532163742690059"
            ]
          },
          "execution_count": 17,
          "metadata": {},
          "output_type": "execute_result"
        }
      ],
      "source": [
        "model2=LogisticRegression(max_iter=1000000)\n",
        "model2.fit(X_train,y_train)\n",
        "model2.score(X_test,y_test)"
      ]
    },
    {
      "cell_type": "markdown",
      "metadata": {
        "id": "lffHoa5VzILU"
      },
      "source": [
        "a) The model score for naive Bayes is **92%** and **95%** for the logistic Regression"
      ]
    },
    {
      "cell_type": "code",
      "execution_count": null,
      "metadata": {
        "id": "YDTWEOSWhM8b"
      },
      "outputs": [],
      "source": [
        "X2 = df[['mean texture','mean perimeter','mean smoothness','mean compactness','mean symmetry']]"
      ]
    },
    {
      "cell_type": "code",
      "execution_count": null,
      "metadata": {
        "id": "0FZqMYYPhau2"
      },
      "outputs": [],
      "source": [
        "X2 = X2.values"
      ]
    },
    {
      "cell_type": "code",
      "execution_count": null,
      "metadata": {
        "id": "mM25aoRxhrIb"
      },
      "outputs": [],
      "source": [
        "X_train, X_test, y_train, y_test = train_test_split(X2, breast.target, test_size=0.3, random_state=100)"
      ]
    },
    {
      "cell_type": "code",
      "execution_count": null,
      "metadata": {
        "colab": {
          "base_uri": "https://localhost:8080/"
        },
        "id": "jGtD1a7Sh6vC",
        "outputId": "153aa810-16b4-444f-b412-7933ea414e56"
      },
      "outputs": [
        {
          "data": {
            "text/plain": [
              "0.9239766081871345"
            ]
          },
          "execution_count": 21,
          "metadata": {},
          "output_type": "execute_result"
        }
      ],
      "source": [
        "model = GaussianNB()\n",
        "model.fit(X_train,y_train)\n",
        "model.score(X_test,y_test)"
      ]
    },
    {
      "cell_type": "markdown",
      "metadata": {
        "id": "I6mCoOTCTPr1"
      },
      "source": [
        "2. Logestic Regression"
      ]
    },
    {
      "cell_type": "code",
      "execution_count": null,
      "metadata": {
        "colab": {
          "base_uri": "https://localhost:8080/"
        },
        "id": "xItib_Mph-4v",
        "outputId": "e2325794-560f-4625-87e0-a9e6d8314ea8"
      },
      "outputs": [
        {
          "data": {
            "text/plain": [
              "0.8830409356725146"
            ]
          },
          "execution_count": 22,
          "metadata": {},
          "output_type": "execute_result"
        }
      ],
      "source": [
        "model2=LogisticRegression(max_iter=1000000)\n",
        "model2.fit(X_train,y_train)\n",
        "model2.score(X_test,y_test)"
      ]
    },
    {
      "cell_type": "markdown",
      "metadata": {
        "id": "g6IaKFSTv66p"
      },
      "source": [
        "b) Using only 'mean texture','mean perimeter','mean smoothness','mean compactness',and 'mean symmetry', the model score for naive Bayes is **92%** and **88%** for the logistic Regression"
      ]
    },
    {
      "cell_type": "markdown",
      "metadata": {
        "id": "kLGtO75CikwU"
      },
      "source": [
        "Principal Component Analysis (PCA)"
      ]
    },
    {
      "cell_type": "code",
      "execution_count": null,
      "metadata": {
        "colab": {
          "base_uri": "https://localhost:8080/"
        },
        "id": "CYKY8O8sTObe",
        "outputId": "601d94df-cc8e-431f-d2a7-45a501bfcf82"
      },
      "outputs": [
        {
          "name": "stdout",
          "output_type": "stream",
          "text": [
            "       mean radius  mean texture  mean perimeter    mean area\n",
            "count   569.000000    569.000000      569.000000   569.000000\n",
            "mean     14.127292     19.289649       91.969033   654.889104\n",
            "std       3.524049      4.301036       24.298981   351.914129\n",
            "min       6.981000      9.710000       43.790000   143.500000\n",
            "25%      11.700000     16.170000       75.170000   420.300000\n",
            "50%      13.370000     18.840000       86.240000   551.100000\n",
            "75%      15.780000     21.800000      104.100000   782.700000\n",
            "max      28.110000     39.280000      188.500000  2501.000000\n"
          ]
        }
      ],
      "source": [
        "#EXTRACT DATA FOR PCA\n",
        "df_pca=df.drop(['target'],axis = 'columns')\n",
        "\n",
        "#VIEW DATA SUMMARY\n",
        "print(df_pca.iloc[:,0:4].describe())"
      ]
    },
    {
      "cell_type": "code",
      "execution_count": null,
      "metadata": {
        "colab": {
          "base_uri": "https://localhost:8080/"
        },
        "id": "KPeZg9pm5nqu",
        "outputId": "1c87a15c-a026-4a61-b014-f384b6b553c9"
      },
      "outputs": [
        {
          "name": "stdout",
          "output_type": "stream",
          "text": [
            "        mean radius  mean texture  mean perimeter     mean area\n",
            "count  5.690000e+02  5.690000e+02    5.690000e+02  5.690000e+02\n",
            "mean  -3.153111e-15 -6.568462e-15   -6.993039e-16 -8.553985e-16\n",
            "std    1.000880e+00  1.000880e+00    1.000880e+00  1.000880e+00\n",
            "min   -2.029648e+00 -2.229249e+00   -1.984504e+00 -1.454443e+00\n",
            "25%   -6.893853e-01 -7.259631e-01   -6.919555e-01 -6.671955e-01\n",
            "50%   -2.150816e-01 -1.046362e-01   -2.359800e-01 -2.951869e-01\n",
            "75%    4.693926e-01  5.841756e-01    4.996769e-01  3.635073e-01\n",
            "max    3.971288e+00  4.651889e+00    3.976130e+00  5.250529e+00\n"
          ]
        }
      ],
      "source": [
        "\n",
        "#Scale independent variables, or x values\n",
        "x = StandardScaler().fit_transform(df_pca)\n",
        "\n",
        "#FORM A PANDAS DATAFRAME\n",
        "x=pd.DataFrame(x,columns=breast.feature_names)\n",
        "\n",
        "#VIEW SCALED DATA SUMMARY\n",
        "print(x.iloc[:,0:4].describe())"
      ]
    },
    {
      "cell_type": "markdown",
      "metadata": {
        "id": "LMgiI9rhT3Bt"
      },
      "source": [
        "PCA With n_components = 2"
      ]
    },
    {
      "cell_type": "code",
      "execution_count": null,
      "metadata": {
        "colab": {
          "base_uri": "https://localhost:8080/"
        },
        "id": "0J8mIOcSxwKx",
        "outputId": "1e1fe7a6-7411-4d44-c43c-e077889df45d"
      },
      "outputs": [
        {
          "data": {
            "text/plain": [
              "(569, 2)"
            ]
          },
          "execution_count": 25,
          "metadata": {},
          "output_type": "execute_result"
        }
      ],
      "source": [
        "# n_compents = 2\n",
        "pca = PCA(n_components=2)\n",
        "\n",
        "#transform and fit pca data\n",
        "pca_x = pca.fit_transform(x)\n",
        "\n",
        "#VIEW SHAPE\n",
        "pca_x.shape"
      ]
    },
    {
      "cell_type": "code",
      "execution_count": null,
      "metadata": {
        "colab": {
          "base_uri": "https://localhost:8080/"
        },
        "id": "dio0RpO2yaKJ",
        "outputId": "47973f67-0c1a-4d10-89e0-b0134be219ef"
      },
      "outputs": [
        {
          "data": {
            "text/plain": [
              "array([[ 9.19283683,  1.94858307],\n",
              "       [ 2.3878018 , -3.76817174],\n",
              "       [ 5.73389628, -1.0751738 ],\n",
              "       ...,\n",
              "       [ 1.25617928, -1.90229671],\n",
              "       [10.37479406,  1.67201011],\n",
              "       [-5.4752433 , -0.67063679]])"
            ]
          },
          "execution_count": 26,
          "metadata": {},
          "output_type": "execute_result"
        }
      ],
      "source": [
        "#VIEW PCA DATA\n",
        "pca_x"
      ]
    },
    {
      "cell_type": "code",
      "execution_count": null,
      "metadata": {
        "colab": {
          "base_uri": "https://localhost:8080/"
        },
        "id": "fTDYRyohyc5k",
        "outputId": "c7d7a3ae-41c2-4d7b-9182-2fe8e0693a4d"
      },
      "outputs": [
        {
          "data": {
            "text/plain": [
              "array([0.44272026, 0.18971182])"
            ]
          },
          "execution_count": 27,
          "metadata": {},
          "output_type": "execute_result"
        }
      ],
      "source": [
        "#PCA EXPLAINED RATIO\n",
        "pca.explained_variance_ratio_"
      ]
    },
    {
      "cell_type": "code",
      "execution_count": null,
      "metadata": {
        "id": "Rf9QXk0cyzdQ"
      },
      "outputs": [],
      "source": [
        "#SPLIT PCA DATA INTO TRAINING(70%) AND TESTING(30%)\n",
        "X_train_pca, X_test_pca, y_train, y_test = train_test_split(pca_x, y, test_size=0.3, random_state=30)"
      ]
    },
    {
      "cell_type": "code",
      "execution_count": null,
      "metadata": {
        "colab": {
          "base_uri": "https://localhost:8080/"
        },
        "id": "CKQrUfhJziPB",
        "outputId": "4614336a-f70f-4de6-bc2c-309a568eb9fc"
      },
      "outputs": [
        {
          "data": {
            "text/plain": [
              "0.9181286549707602"
            ]
          },
          "execution_count": 29,
          "metadata": {},
          "output_type": "execute_result"
        }
      ],
      "source": [
        "#EVALUATE AND PREDICT WITH Naive Bayes\n",
        "model = GaussianNB()\n",
        "model.fit(X_train_pca, y_train)\n",
        "model.score(X_test_pca,y_test)"
      ]
    },
    {
      "cell_type": "code",
      "execution_count": null,
      "metadata": {
        "colab": {
          "base_uri": "https://localhost:8080/"
        },
        "id": "TR-05bmezHt4",
        "outputId": "a433459e-cccc-413e-c4a4-c65b687dfae7"
      },
      "outputs": [
        {
          "data": {
            "text/plain": [
              "0.9473684210526315"
            ]
          },
          "execution_count": 30,
          "metadata": {},
          "output_type": "execute_result"
        }
      ],
      "source": [
        "#EVALUATE AND PREDICT WITH Logistic Regression\n",
        "model2=LogisticRegression(max_iter=1000000)\n",
        "model2.fit(X_train_pca,y_train)\n",
        "model2.score( X_test_pca,y_test)"
      ]
    },
    {
      "cell_type": "markdown",
      "metadata": {
        "id": "rr8Q0e5swuln"
      },
      "source": [
        "c) Using 2 components for the PCA, Naive Bayes gave a model score of **92%** and logistic Regression attained a score of **95%**"
      ]
    },
    {
      "cell_type": "markdown",
      "metadata": {
        "id": "6_Hs8wkb4qUX"
      },
      "source": [
        "PCA - Maintaining 95% information of the dataset"
      ]
    },
    {
      "cell_type": "code",
      "execution_count": null,
      "metadata": {
        "colab": {
          "base_uri": "https://localhost:8080/"
        },
        "id": "E3ql0Ib03_3g",
        "outputId": "21cb2a85-6233-486f-d9ee-1620e012c5b6"
      },
      "outputs": [
        {
          "data": {
            "text/plain": [
              "(569, 10)"
            ]
          },
          "execution_count": 31,
          "metadata": {},
          "output_type": "execute_result"
        }
      ],
      "source": [
        "#Maintaining 95% information of the dataset\n",
        "pca = PCA(0.95)\n",
        "\n",
        "pca_x = pca.fit_transform(x)\n",
        "\n",
        "#VIEW SHAPE\n",
        "pca_x.shape"
      ]
    },
    {
      "cell_type": "code",
      "execution_count": null,
      "metadata": {
        "colab": {
          "base_uri": "https://localhost:8080/"
        },
        "id": "vvqM1qzK5ZE6",
        "outputId": "840c1606-a13f-4556-bfa7-58033981a299"
      },
      "outputs": [
        {
          "data": {
            "text/plain": [
              "array([0.44272026, 0.18971182, 0.09393163, 0.06602135, 0.05495768,\n",
              "       0.04024522, 0.02250734, 0.01588724, 0.01389649, 0.01168978])"
            ]
          },
          "execution_count": 32,
          "metadata": {},
          "output_type": "execute_result"
        }
      ],
      "source": [
        "pca.explained_variance_ratio_"
      ]
    },
    {
      "cell_type": "code",
      "execution_count": null,
      "metadata": {
        "colab": {
          "base_uri": "https://localhost:8080/"
        },
        "id": "ok4hOIyF5enP",
        "outputId": "b21ea764-b2dd-4760-ae85-9b4b84b425bc"
      },
      "outputs": [
        {
          "data": {
            "text/plain": [
              "10"
            ]
          },
          "execution_count": 33,
          "metadata": {},
          "output_type": "execute_result"
        }
      ],
      "source": [
        "pca.n_components_"
      ]
    },
    {
      "cell_type": "markdown",
      "metadata": {
        "id": "p-6VN_7IxzvT"
      },
      "source": [
        "d) i. The number of components to preserve 95% information of the dataset is  **10**"
      ]
    },
    {
      "cell_type": "code",
      "execution_count": null,
      "metadata": {
        "id": "A8ltHrw-57DY"
      },
      "outputs": [],
      "source": [
        "#SPLIT PCA_95 DATA INTO TRAINING(70%) AND TESTING(30%)\n",
        "X_train_pca, X_test_pca, y_train, y_test = train_test_split(pca_x, y, test_size=0.3, random_state=30)"
      ]
    },
    {
      "cell_type": "code",
      "execution_count": null,
      "metadata": {
        "colab": {
          "base_uri": "https://localhost:8080/"
        },
        "id": "TWhjwesU6FOd",
        "outputId": "6d4d7e03-fc1a-4dae-9c9e-35a907755d91"
      },
      "outputs": [
        {
          "data": {
            "text/plain": [
              "0.9181286549707602"
            ]
          },
          "execution_count": 35,
          "metadata": {},
          "output_type": "execute_result"
        }
      ],
      "source": [
        "#EVALUATE AND PREDICT WITH Naive Bayes\n",
        "model = GaussianNB()\n",
        "model.fit(X_train_pca, y_train)\n",
        "model.score(X_test_pca,y_test)"
      ]
    },
    {
      "cell_type": "code",
      "execution_count": null,
      "metadata": {
        "colab": {
          "base_uri": "https://localhost:8080/"
        },
        "id": "b25j5aeQ6JKr",
        "outputId": "da19588a-0514-4d26-9472-5ce0244a31e0"
      },
      "outputs": [
        {
          "data": {
            "text/plain": [
              "0.9941520467836257"
            ]
          },
          "execution_count": 36,
          "metadata": {},
          "output_type": "execute_result"
        }
      ],
      "source": [
        "#EVALUATE AND PREDICT WITH Logistic Regression\n",
        "model2=LogisticRegression(max_iter=1000000)\n",
        "model2.fit(X_train_pca,y_train)\n",
        "model2.score( X_test_pca,y_test)"
      ]
    },
    {
      "cell_type": "markdown",
      "metadata": {
        "id": "HluMo7ONxghs"
      },
      "source": [
        "d) ii. After preserving 95% of components in the dataset, Naive Bayes attained a model score of **92%**, and Logistic regression attained an accuracy score of **99%**"
      ]
    },
    {
      "attachments": {},
      "cell_type": "markdown",
      "metadata": {
        "id": "aECvxB6U2QXU"
      },
      "source": []
    }
  ],
  "metadata": {
    "colab": {
      "provenance": []
    },
    "kernelspec": {
      "display_name": "Python 3.10.7 64-bit",
      "language": "python",
      "name": "python3"
    },
    "language_info": {
      "codemirror_mode": {
        "name": "ipython",
        "version": 3
      },
      "file_extension": ".py",
      "mimetype": "text/x-python",
      "name": "python",
      "nbconvert_exporter": "python",
      "pygments_lexer": "ipython3",
      "version": "3.10.7"
    },
    "vscode": {
      "interpreter": {
        "hash": "beae1a2d5891a3c6838fb0a9d9d4741165ab9a7ae485234500688930f06e592b"
      }
    }
  },
  "nbformat": 4,
  "nbformat_minor": 0
}
